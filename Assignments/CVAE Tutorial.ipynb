{
  "nbformat": 4,
  "nbformat_minor": 0,
  "metadata": {
    "colab": {
      "provenance": [],
      "gpuType": "T4"
    },
    "kernelspec": {
      "name": "python3",
      "display_name": "Python 3"
    },
    "language_info": {
      "name": "python"
    },
    "accelerator": "GPU"
  },
  "cells": [
    {
      "cell_type": "code",
      "execution_count": null,
      "metadata": {
        "id": "6GxpTsO89H6_"
      },
      "outputs": [],
      "source": [
        "import torch\n",
        "import torch.nn as nn\n",
        "import torch.optim as optim\n",
        "import torchvision\n",
        "import torchvision.transforms as transforms\n",
        "from torch.autograd import Variable\n",
        "\n",
        "import matplotlib.pyplot as plt"
      ]
    },
    {
      "cell_type": "code",
      "source": [
        "# Define training parameters\n",
        "input_dim = 784\n",
        "label_dim = 10\n",
        "latent_dim = 2\n",
        "batch_size = 128\n",
        "epochs = 50\n",
        "lr = 0.001"
      ],
      "metadata": {
        "id": "HhIBShiy95X2"
      },
      "execution_count": null,
      "outputs": []
    },
    {
      "cell_type": "code",
      "source": [
        "# Load MNIST dataset\n",
        "transform = transforms.Compose([transforms.ToTensor()])\n",
        "train_dataset = torchvision.datasets.MNIST(root='./data', train=True, download=True, transform=transform)\n",
        "train_loader = torch.utils.data.DataLoader(train_dataset, batch_size=batch_size, shuffle=True)"
      ],
      "metadata": {
        "colab": {
          "base_uri": "https://localhost:8080/"
        },
        "id": "o2HvdQsb977c",
        "outputId": "ffc2ea33-994c-4012-e2ea-2362317128c9"
      },
      "execution_count": null,
      "outputs": [
        {
          "output_type": "stream",
          "name": "stdout",
          "text": [
            "Downloading http://yann.lecun.com/exdb/mnist/train-images-idx3-ubyte.gz\n",
            "Downloading http://yann.lecun.com/exdb/mnist/train-images-idx3-ubyte.gz to ./data/MNIST/raw/train-images-idx3-ubyte.gz\n"
          ]
        },
        {
          "output_type": "stream",
          "name": "stderr",
          "text": [
            "100%|██████████| 9912422/9912422 [00:00<00:00, 72778709.67it/s]\n"
          ]
        },
        {
          "output_type": "stream",
          "name": "stdout",
          "text": [
            "Extracting ./data/MNIST/raw/train-images-idx3-ubyte.gz to ./data/MNIST/raw\n",
            "\n",
            "Downloading http://yann.lecun.com/exdb/mnist/train-labels-idx1-ubyte.gz\n",
            "Downloading http://yann.lecun.com/exdb/mnist/train-labels-idx1-ubyte.gz to ./data/MNIST/raw/train-labels-idx1-ubyte.gz\n"
          ]
        },
        {
          "output_type": "stream",
          "name": "stderr",
          "text": [
            "100%|██████████| 28881/28881 [00:00<00:00, 113422934.29it/s]\n"
          ]
        },
        {
          "output_type": "stream",
          "name": "stdout",
          "text": [
            "Extracting ./data/MNIST/raw/train-labels-idx1-ubyte.gz to ./data/MNIST/raw\n",
            "\n",
            "Downloading http://yann.lecun.com/exdb/mnist/t10k-images-idx3-ubyte.gz\n",
            "Downloading http://yann.lecun.com/exdb/mnist/t10k-images-idx3-ubyte.gz to ./data/MNIST/raw/t10k-images-idx3-ubyte.gz\n"
          ]
        },
        {
          "output_type": "stream",
          "name": "stderr",
          "text": [
            "100%|██████████| 1648877/1648877 [00:00<00:00, 25583333.57it/s]\n"
          ]
        },
        {
          "output_type": "stream",
          "name": "stdout",
          "text": [
            "Extracting ./data/MNIST/raw/t10k-images-idx3-ubyte.gz to ./data/MNIST/raw\n",
            "\n",
            "Downloading http://yann.lecun.com/exdb/mnist/t10k-labels-idx1-ubyte.gz\n",
            "Downloading http://yann.lecun.com/exdb/mnist/t10k-labels-idx1-ubyte.gz to ./data/MNIST/raw/t10k-labels-idx1-ubyte.gz\n"
          ]
        },
        {
          "output_type": "stream",
          "name": "stderr",
          "text": [
            "100%|██████████| 4542/4542 [00:00<00:00, 22706232.14it/s]"
          ]
        },
        {
          "output_type": "stream",
          "name": "stdout",
          "text": [
            "Extracting ./data/MNIST/raw/t10k-labels-idx1-ubyte.gz to ./data/MNIST/raw\n",
            "\n"
          ]
        },
        {
          "output_type": "stream",
          "name": "stderr",
          "text": [
            "\n"
          ]
        }
      ]
    },
    {
      "cell_type": "code",
      "source": [
        "examples = enumerate(train_loader)\n",
        "batch_idx, (example_data, example_targets) = next(examples)"
      ],
      "metadata": {
        "id": "j5MYlJPOB-rk"
      },
      "execution_count": null,
      "outputs": []
    },
    {
      "cell_type": "code",
      "source": [
        "fig = plt.figure()\n",
        "for i in range(6):\n",
        "  plt.subplot(2,3,i+1)\n",
        "  plt.tight_layout()\n",
        "  plt.imshow(example_data[i][0], cmap='gray', interpolation='none')\n",
        "  plt.xticks([])\n",
        "  plt.yticks([])"
      ],
      "metadata": {
        "colab": {
          "base_uri": "https://localhost:8080/",
          "height": 417
        },
        "id": "yagcoU5eB5iM",
        "outputId": "11b2178f-3093-434e-f516-2b853048dee2"
      },
      "execution_count": null,
      "outputs": [
        {
          "output_type": "display_data",
          "data": {
            "text/plain": [
              "<Figure size 640x480 with 6 Axes>"
            ],
            "image/png": "[encoded data removed]"
          },
          "metadata": {}
        }
      ]
    },
    {
      "cell_type": "code",
      "source": [
        "# Define the Conditional Variational Autoencoder (CVAE) architecture\n",
        "class CVAE(nn.Module):\n",
        "    def __init__(self, input_dim, label_dim, latent_dim):\n",
        "        super(CVAE, self).__init__()\n",
        "        self.encoder = nn.Sequential(\n",
        "            nn.Linear(input_dim + label_dim, 256),\n",
        "            nn.ReLU(),\n",
        "        )\n",
        "        self.z_mean = nn.Linear(256, latent_dim)\n",
        "        self.z_log_var = nn.Linear(256, latent_dim)\n",
        "\n",
        "        self.decoder = nn.Sequential(\n",
        "            nn.Linear(latent_dim + label_dim, 256),\n",
        "            nn.ReLU(),\n",
        "            nn.Linear(256, input_dim),\n",
        "            nn.Sigmoid(),\n",
        "        )\n",
        "\n",
        "    def reparameterize(self, mean, log_var):\n",
        "        std = torch.exp(0.5 * log_var)\n",
        "        epsilon = torch.randn_like(std)\n",
        "        return mean + epsilon * std\n",
        "\n",
        "    def forward(self, x, labels):\n",
        "        merged_input = torch.cat((x, labels), dim=1)\n",
        "        encoder_output = self.encoder(merged_input)\n",
        "        z_mean = self.z_mean(encoder_output)\n",
        "        z_log_var = self.z_log_var(encoder_output)\n",
        "        z = self.reparameterize(z_mean, z_log_var)\n",
        "\n",
        "        merged_decoder_input = torch.cat((z, labels), dim=1)\n",
        "        decoded = self.decoder(merged_decoder_input)\n",
        "        return decoded, z_mean, z_log_var"
      ],
      "metadata": {
        "id": "TLjiVotn-GtG"
      },
      "execution_count": null,
      "outputs": []
    },
    {
      "cell_type": "code",
      "source": [
        "# Loss function\n",
        "def vae_loss(recon_x, x, z_mean, z_log_var):\n",
        "    reconstruction_loss = nn.BCELoss(reduction='sum')(recon_x, x)\n",
        "    kl_divergence = -0.5 * torch.sum(1 + z_log_var - z_mean.pow(2) - z_log_var.exp())\n",
        "    return reconstruction_loss + kl_divergence"
      ],
      "metadata": {
        "id": "k5DBAbey-aBe"
      },
      "execution_count": null,
      "outputs": []
    },
    {
      "cell_type": "code",
      "source": [
        "# Training\n",
        "device = torch.device(\"cuda\" if torch.cuda.is_available() else \"cpu\")\n",
        "# Initialize the CVAE model and optimizer\n",
        "cvae = CVAE(input_dim, label_dim, latent_dim).to(device)\n",
        "optimizer = optim.Adam(cvae.parameters(), lr=lr)"
      ],
      "metadata": {
        "id": "K3QVGq4Y-d8w"
      },
      "execution_count": null,
      "outputs": []
    },
    {
      "cell_type": "code",
      "source": [
        "# Train the model\n",
        "loss_list = []\n",
        "cvae.train()\n",
        "for epoch in range(epochs):\n",
        "    total_loss = 0\n",
        "    for batch_idx, (data, labels) in enumerate(train_loader):\n",
        "        data = data.view(-1, input_dim).to(device)\n",
        "        labels = labels.to(device)\n",
        "        labels_onehot = torch.zeros(labels.size(0), label_dim).to(device)\n",
        "        labels_onehot.scatter_(1, labels.view(-1, 1), 1)\n",
        "\n",
        "\n",
        "        optimizer.zero_grad()\n",
        "        recon_data, z_mean, z_log_var = cvae(data, labels_onehot)\n",
        "        loss = vae_loss(recon_data, data, z_mean, z_log_var)\n",
        "        loss.backward()\n",
        "        optimizer.step()\n",
        "\n",
        "        total_loss += loss.item()\n",
        "    loss_list.append(total_loss)\n",
        "\n",
        "    print(f'Epoch [{epoch+1}/{epochs}], Loss: {total_loss/len(train_loader.dataset):.4f}')"
      ],
      "metadata": {
        "id": "Kkvt8YLu-jxH",
        "colab": {
          "base_uri": "https://localhost:8080/"
        },
        "outputId": "7c9a35d4-74d7-44ca-c39b-75a8d1751703"
      },
      "execution_count": null,
      "outputs": [
        {
          "output_type": "stream",
          "name": "stdout",
          "text": [
            "Epoch [1/50], Loss: 187.7242\n",
            "Epoch [2/50], Loss: 148.8173\n",
            "Epoch [3/50], Loss: 142.5266\n",
            "Epoch [4/50], Loss: 139.9047\n",
            "Epoch [5/50], Loss: 138.2576\n",
            "Epoch [6/50], Loss: 137.1090\n",
            "Epoch [7/50], Loss: 136.2840\n",
            "Epoch [8/50], Loss: 135.6365\n",
            "Epoch [9/50], Loss: 135.1368\n",
            "Epoch [10/50], Loss: 134.6625\n",
            "Epoch [11/50], Loss: 134.3104\n",
            "Epoch [12/50], Loss: 134.0219\n",
            "Epoch [13/50], Loss: 133.7207\n",
            "Epoch [14/50], Loss: 133.4645\n",
            "Epoch [15/50], Loss: 133.2659\n",
            "Epoch [16/50], Loss: 133.0330\n",
            "Epoch [17/50], Loss: 132.8788\n",
            "Epoch [18/50], Loss: 132.6964\n",
            "Epoch [19/50], Loss: 132.5276\n",
            "Epoch [20/50], Loss: 132.3861\n",
            "Epoch [21/50], Loss: 132.2413\n",
            "Epoch [22/50], Loss: 132.0948\n",
            "Epoch [23/50], Loss: 131.9739\n",
            "Epoch [24/50], Loss: 131.8781\n",
            "Epoch [25/50], Loss: 131.7499\n",
            "Epoch [26/50], Loss: 131.6685\n",
            "Epoch [27/50], Loss: 131.5395\n",
            "Epoch [28/50], Loss: 131.4485\n",
            "Epoch [29/50], Loss: 131.3547\n",
            "Epoch [30/50], Loss: 131.2629\n",
            "Epoch [31/50], Loss: 131.1832\n",
            "Epoch [32/50], Loss: 131.1282\n",
            "Epoch [33/50], Loss: 131.0296\n",
            "Epoch [34/50], Loss: 130.9657\n",
            "Epoch [35/50], Loss: 130.8965\n",
            "Epoch [36/50], Loss: 130.8348\n",
            "Epoch [37/50], Loss: 130.7512\n",
            "Epoch [38/50], Loss: 130.6695\n",
            "Epoch [39/50], Loss: 130.6257\n",
            "Epoch [40/50], Loss: 130.5649\n",
            "Epoch [41/50], Loss: 130.4898\n",
            "Epoch [42/50], Loss: 130.4234\n",
            "Epoch [43/50], Loss: 130.4051\n",
            "Epoch [44/50], Loss: 130.3372\n",
            "Epoch [45/50], Loss: 130.2908\n",
            "Epoch [46/50], Loss: 130.2329\n",
            "Epoch [47/50], Loss: 130.1866\n",
            "Epoch [48/50], Loss: 130.1211\n",
            "Epoch [49/50], Loss: 130.1049\n",
            "Epoch [50/50], Loss: 130.0585\n"
          ]
        }
      ]
    },
    {
      "cell_type": "code",
      "source": [
        "plt.plot(loss_list)"
      ],
      "metadata": {
        "id": "lKaYgyfnCh9e",
        "colab": {
          "base_uri": "https://localhost:8080/",
          "height": 462
        },
        "outputId": "af5a7087-f39f-4c09-9385-ed0e1a927e93"
      },
      "execution_count": null,
      "outputs": [
        {
          "output_type": "execute_result",
          "data": {
            "text/plain": [
              "[<matplotlib.lines.Line2D at 0x7b384b95d3c0>]"
            ]
          },
          "metadata": {},
          "execution_count": 15
        },
        {
          "output_type": "display_data",
          "data": {
            "text/plain": [
              "<Figure size 640x480 with 1 Axes>"
            ],
            "image/png": "[encoded data removed]"
          },
          "metadata": {}
        }
      ]
    },
    {
      "cell_type": "code",
      "source": [
        "# Generate samples from the CVAE\n",
        "def generate_samples(n_samples, label):\n",
        "    random_latent = torch.randn(n_samples, latent_dim)\n",
        "    label_input = torch.zeros(n_samples, label_dim)\n",
        "    label_input[:, label] = 1\n",
        "    generated_images = cvae.decoder(torch.cat((random_latent, label_input), dim=1).to(device))\n",
        "    generated_images = generated_images.view(-1, 28, 28).detach().cpu().numpy()\n",
        "    return generated_images"
      ],
      "metadata": {
        "id": "MSKt3Cz1-4KO"
      },
      "execution_count": null,
      "outputs": []
    },
    {
      "cell_type": "code",
      "source": [
        "label_to_generate = 5  # Change this to the desired label\n",
        "generated_samples = generate_samples(10, label_to_generate)\n",
        "\n",
        "plt.figure(figsize=(10, 2))\n",
        "for i in range(10):\n",
        "    plt.subplot(1, 10, i + 1)\n",
        "    plt.imshow(generated_samples[i], cmap='gray')\n",
        "    plt.axis('off')\n",
        "plt.show()"
      ],
      "metadata": {
        "id": "OuNj1TsfBPxB",
        "colab": {
          "base_uri": "https://localhost:8080/",
          "height": 102
        },
        "outputId": "79eafc18-a55a-46b1-cdef-e7a06767dd30"
      },
      "execution_count": null,
      "outputs": [
        {
          "output_type": "display_data",
          "data": {
            "text/plain": [
              "<Figure size 1000x200 with 10 Axes>"
            ],
            "image/png": "[encoded data removed]"
          },
          "metadata": {}
        }
      ]
    },
    {
      "cell_type": "code",
      "source": [],
      "metadata": {
        "id": "30bnVDmATojO"
      },
      "execution_count": null,
      "outputs": []
    }
  ]
}