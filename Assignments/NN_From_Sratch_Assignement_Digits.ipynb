{
  "nbformat": 4,
  "nbformat_minor": 0,
  "metadata": {
    "colab": {
      "provenance": []
    },
    "kernelspec": {
      "name": "python3",
      "display_name": "Python 3"
    },
    "language_info": {
      "name": "python"
    }
  },
  "cells": [
    {
      "cell_type": "code",
      "execution_count": 1,
      "metadata": {
        "id": "P1wrU6oBBKqo"
      },
      "outputs": [],
      "source": [
        "import numpy as np\n",
        "import matplotlib.pyplot as plt\n",
        "from sklearn.datasets import load_digits\n",
        "from sklearn.preprocessing import OneHotEncoder"
      ]
    },
    {
      "cell_type": "code",
      "source": [
        "class NeuralNetwork:\n",
        "\n",
        "  def __init__(self, input_size, hidden_size, output_size):\n",
        "\n",
        "    self.input_size = input_size\n",
        "    self.hidden_size = hidden_size\n",
        "    self.output_size = output_size\n",
        "\n",
        "\n",
        "    self.W1 = np.random.randn(self.input_size, self.hidden_size)\n",
        "    self.b1 = np.zeros((1, self.hidden_size))\n",
        "    self.W2 = np.random.randn(self.hidden_size, self.output_size)\n",
        "    self.b2 = np.zeros((1, self.output_size))\n",
        "\n",
        "\n",
        "  def sigmoid(self, x):\n",
        "\n",
        "    return 1 / (1 + np.exp(-x))\n",
        "\n",
        "  def sigmoid_derivative(self, x):\n",
        "\n",
        "    return self.sigmoid(x) * (1 - self.sigmoid(x))\n",
        "\n",
        "\n",
        "  def calculate_loss(self, y_true, y_pred):\n",
        "\n",
        "      m = y_pred.shape[0]\n",
        "      loss = -1/m * np.sum(y_true * np.log(y_pred + 1e-10))\n",
        "      return loss\n",
        "\n",
        "  # correct solution:\n",
        "  def softmax(self, x):\n",
        "    exp_vals = np.exp(x)\n",
        "    sum_exp = np.sum(exp_vals, axis=-1, keepdims=True)\n",
        "    softmax_output = exp_vals / sum_exp\n",
        "\n",
        "    return softmax_output\n",
        "\n",
        "  def forward(self, x):\n",
        "\n",
        "    self.z1 = np.dot(x, self.W1) + self.b1\n",
        "    self.a1 = self.sigmoid(self.z1)\n",
        "    self.z2 = np.dot(self.a1, self.W2) + self.b2\n",
        "    self.a2 = self.softmax(self.z2)\n",
        "\n",
        "    return self.a2\n",
        "\n",
        "  def backward(self, x, y, learning_rate):\n",
        "\n",
        "    m = x.shape[0]\n",
        "\n",
        "    dz2 = self.a2 - y\n",
        "    dW2 = (1 / m) * np.dot(self.a1.T, dz2)\n",
        "    db2 = (1 / m) * np.sum(dz2, axis=0)\n",
        "    dz1 = np.dot(dz2, self.W2.T) * self.sigmoid_derivative(self.z1)\n",
        "    dW1 = (1 / m) * np.dot(x.T, dz1)\n",
        "    db1 = (1 / m) * np.sum(dz1, axis=0)\n",
        "\n",
        "\n",
        "\n",
        "    self.W2 -= learning_rate * dW2\n",
        "    self.b2 -= learning_rate * db2\n",
        "    self.W1 -= learning_rate * dW1\n",
        "    self.b1 -= learning_rate * db1\n",
        "\n",
        "\n",
        "\n",
        "  def train(self, x, y, epochs, learning_rate):\n",
        "\n",
        "    losslist = []\n",
        "\n",
        "    for epoch in range(epochs):\n",
        "\n",
        "      output = self.forward(x)\n",
        "      self.backward(x, y, learning_rate)\n",
        "\n",
        "      if epoch %100 == 0:\n",
        "        loss = self.calculate_loss(y, output)\n",
        "        losslist.append(loss)\n",
        "        print(\"Epoch: \",epoch, \", Loss: \",loss)\n",
        "\n",
        "\n",
        "\n",
        "    return losslist\n",
        "\n",
        "  def predict(self,x):\n",
        "\n",
        "    preds = self.forward(x)\n",
        "\n",
        "\n",
        "    preds = np.argmax(preds, axis=1)\n",
        "\n",
        "    return preds\n",
        "\n",
        "\n",
        "\n",
        "\n"
      ],
      "metadata": {
        "id": "Z7FZGqz2OR3M"
      },
      "execution_count": 2,
      "outputs": []
    },
    {
      "cell_type": "code",
      "source": [
        "def normalize(X):\n",
        "\n",
        "    X = x/255.0\n",
        "\n",
        "    return X"
      ],
      "metadata": {
        "id": "dAWSBSkDujFz"
      },
      "execution_count": 3,
      "outputs": []
    },
    {
      "cell_type": "code",
      "source": [
        "x, y = load_digits(return_X_y=True)"
      ],
      "metadata": {
        "id": "nMpBzFVus5D9"
      },
      "execution_count": 4,
      "outputs": []
    },
    {
      "cell_type": "code",
      "source": [
        "x.shape, y.shape"
      ],
      "metadata": {
        "colab": {
          "base_uri": "https://localhost:8080/"
        },
        "id": "42256KxhOuEn",
        "outputId": "45584731-f224-4afd-961c-4348487c8f12"
      },
      "execution_count": 5,
      "outputs": [
        {
          "output_type": "execute_result",
          "data": {
            "text/plain": [
              "((1797, 64), (1797,))"
            ]
          },
          "metadata": {},
          "execution_count": 5
        }
      ]
    },
    {
      "cell_type": "code",
      "source": [
        "x = normalize(x)\n",
        "y = y.reshape(-1,1)"
      ],
      "metadata": {
        "id": "3R92jx6ps97x"
      },
      "execution_count": 6,
      "outputs": []
    },
    {
      "cell_type": "code",
      "source": [
        "enc = OneHotEncoder(handle_unknown='ignore')\n",
        "y = enc.fit_transform(y).toarray()"
      ],
      "metadata": {
        "id": "MhENaaBgPqVO"
      },
      "execution_count": 7,
      "outputs": []
    },
    {
      "cell_type": "code",
      "source": [
        "x.shape, y.shape"
      ],
      "metadata": {
        "colab": {
          "base_uri": "https://localhost:8080/"
        },
        "id": "fdGJd6ODMwid",
        "outputId": "4d432d2e-c9a1-41df-ddd3-1511b23f6895"
      },
      "execution_count": 8,
      "outputs": [
        {
          "output_type": "execute_result",
          "data": {
            "text/plain": [
              "((1797, 64), (1797, 10))"
            ]
          },
          "metadata": {},
          "execution_count": 8
        }
      ]
    },
    {
      "cell_type": "code",
      "source": [
        "plt.imshow(x[0].reshape(8,8)), y[0]\n",
        "\n"
      ],
      "metadata": {
        "colab": {
          "base_uri": "https://localhost:8080/",
          "height": 465
        },
        "id": "Nva-ZsVDNkWw",
        "outputId": "5ef5ae68-71bd-4e77-9096-96470072a013"
      },
      "execution_count": 9,
      "outputs": [
        {
          "output_type": "execute_result",
          "data": {
            "text/plain": [
              "(<matplotlib.image.AxesImage at 0x7b3ed7bb6470>,\n",
              " array([1., 0., 0., 0., 0., 0., 0., 0., 0., 0.]))"
            ]
          },
          "metadata": {},
          "execution_count": 9
        },
        {
          "output_type": "display_data",
          "data": {
            "text/plain": [
              "<Figure size 640x480 with 1 Axes>"
            ],
            "image/png": "[encoded data removed]"
          },
          "metadata": {}
        }
      ]
    },
    {
      "cell_type": "code",
      "source": [
        "nn = NeuralNetwork(None, None, None)"
      ],
      "metadata": {
        "id": "wdEp4ArVTCol"
      },
      "execution_count": 10,
      "outputs": []
    },
    {
      "cell_type": "code",
      "source": [
        "li = nn.train(x, y, epochs=None, learning_rate=None)"
      ],
      "metadata": {
        "colab": {
          "base_uri": "https://localhost:8080/"
        },
        "id": "OznOsnq7TU_s",
        "outputId": "c7a9c717-926a-4e85-c27b-79091eb6c482"
      },
      "execution_count": 28,
      "outputs": [
        {
          "output_type": "stream",
          "name": "stdout",
          "text": [
            "Epoch:  0 , Loss:  1.4954624433559802\n",
            "Epoch:  100 , Loss:  1.4671453624359305\n",
            "Epoch:  200 , Loss:  1.4390435653409832\n",
            "Epoch:  300 , Loss:  1.4111949178334455\n",
            "Epoch:  400 , Loss:  1.3836356349263805\n",
            "Epoch:  500 , Loss:  1.356399943679137\n",
            "Epoch:  600 , Loss:  1.3295198006001372\n",
            "Epoch:  700 , Loss:  1.3030246651669988\n",
            "Epoch:  800 , Loss:  1.2769413295156073\n",
            "Epoch:  900 , Loss:  1.251293802973629\n",
            "Epoch:  1000 , Loss:  1.2261032488588943\n",
            "Epoch:  1100 , Loss:  1.2013879698672638\n",
            "Epoch:  1200 , Loss:  1.1771634374728426\n",
            "Epoch:  1300 , Loss:  1.1534423600824775\n",
            "Epoch:  1400 , Loss:  1.1302347842412435\n",
            "Epoch:  1500 , Loss:  1.107548222977158\n",
            "Epoch:  1600 , Loss:  1.0853878053890027\n",
            "Epoch:  1700 , Loss:  1.0637564417960845\n",
            "Epoch:  1800 , Loss:  1.0426549991493657\n",
            "Epoch:  1900 , Loss:  1.022082481910407\n",
            "Epoch:  2000 , Loss:  1.002036214197138\n",
            "Epoch:  2100 , Loss:  0.9825120196341154\n",
            "Epoch:  2200 , Loss:  0.9635043959942559\n",
            "Epoch:  2300 , Loss:  0.9450066823493162\n",
            "Epoch:  2400 , Loss:  0.9270112170346093\n",
            "Epoch:  2500 , Loss:  0.9095094852632583\n",
            "Epoch:  2600 , Loss:  0.8924922556868725\n",
            "Epoch:  2700 , Loss:  0.8759497055885427\n",
            "Epoch:  2800 , Loss:  0.8598715347108498\n",
            "Epoch:  2900 , Loss:  0.8442470679699083\n",
            "Epoch:  3000 , Loss:  0.8290653474925712\n",
            "Epoch:  3100 , Loss:  0.8143152145454455\n",
            "Epoch:  3200 , Loss:  0.7999853820096469\n",
            "Epoch:  3300 , Loss:  0.78606449810258\n",
            "Epoch:  3400 , Loss:  0.7725412020653567\n",
            "Epoch:  3500 , Loss:  0.7594041725288858\n",
            "Epoch:  3600 , Loss:  0.7466421692493928\n",
            "Epoch:  3700 , Loss:  0.7342440688703585\n",
            "Epoch:  3800 , Loss:  0.7221988953268343\n",
            "Epoch:  3900 , Loss:  0.7104958454631188\n",
            "Epoch:  4000 , Loss:  0.699124310388373\n",
            "Epoch:  4100 , Loss:  0.6880738930487398\n",
            "Epoch:  4200 , Loss:  0.6773344224501627\n",
            "Epoch:  4300 , Loss:  0.6668959649241786\n",
            "Epoch:  4400 , Loss:  0.656748832789953\n",
            "Epoch:  4500 , Loss:  0.6468835907299252\n",
            "Epoch:  4600 , Loss:  0.6372910601636718\n",
            "Epoch:  4700 , Loss:  0.6279623218748627\n",
            "Epoch:  4800 , Loss:  0.6188887171193278\n",
            "Epoch:  4900 , Loss:  0.6100618474180264\n",
            "Epoch:  5000 , Loss:  0.6014735732169165\n",
            "Epoch:  5100 , Loss:  0.5931160115761126\n",
            "Epoch:  5200 , Loss:  0.5849815330330653\n",
            "Epoch:  5300 , Loss:  0.5770627577686316\n",
            "Epoch:  5400 , Loss:  0.5693525511905925\n",
            "Epoch:  5500 , Loss:  0.5618440190363019\n",
            "Epoch:  5600 , Loss:  0.5545305020845356\n",
            "Epoch:  5700 , Loss:  0.5474055705561458\n",
            "Epoch:  5800 , Loss:  0.5404630182736885\n",
            "Epoch:  5900 , Loss:  0.5336968566416919\n",
            "Epoch:  6000 , Loss:  0.5271013085015774\n",
            "Epoch:  6100 , Loss:  0.5206708019083538\n",
            "Epoch:  6200 , Loss:  0.5143999638700159\n",
            "Epoch:  6300 , Loss:  0.5082836140850254\n",
            "Epoch:  6400 , Loss:  0.5023167587082755\n",
            "Epoch:  6500 , Loss:  0.49649458417149356\n",
            "Epoch:  6600 , Loss:  0.49081245108006705\n",
            "Epoch:  6700 , Loss:  0.48526588820475297\n",
            "Epoch:  6800 , Loss:  0.47985058658359286\n",
            "Epoch:  6900 , Loss:  0.47456239374658654\n",
            "Epoch:  7000 , Loss:  0.4693973080732302\n",
            "Epoch:  7100 , Loss:  0.4643514732908751\n",
            "Epoch:  7200 , Loss:  0.4594211731199765\n",
            "Epoch:  7300 , Loss:  0.4546028260706574\n",
            "Epoch:  7400 , Loss:  0.4498929803935847\n",
            "Epoch:  7500 , Loss:  0.4452883091869111\n",
            "Epoch:  7600 , Loss:  0.4407856056599772\n",
            "Epoch:  7700 , Loss:  0.43638177855355276\n",
            "Epoch:  7800 , Loss:  0.43207384771562013\n",
            "Epoch:  7900 , Loss:  0.4278589398310485\n",
            "Epoch:  8000 , Loss:  0.4237342843029612\n",
            "Epoch:  8100 , Loss:  0.41969720928314014\n",
            "Epoch:  8200 , Loss:  0.4157451378484461\n",
            "Epoch:  8300 , Loss:  0.4118755843199292\n",
            "Epoch:  8400 , Loss:  0.408086150721074\n",
            "Epoch:  8500 , Loss:  0.4043745233714401\n",
            "Epoch:  8600 , Loss:  0.4007384696118283\n",
            "Epoch:  8700 , Loss:  0.3971758346570124\n",
            "Epoch:  8800 , Loss:  0.39368453857201935\n",
            "Epoch:  8900 , Loss:  0.3902625733679182\n",
            "Epoch:  9000 , Loss:  0.38690800021307736\n",
            "Epoch:  9100 , Loss:  0.3836189467558719\n",
            "Epoch:  9200 , Loss:  0.3803936045548676\n",
            "Epoch:  9300 , Loss:  0.3772302266125607\n",
            "Epoch:  9400 , Loss:  0.3741271250088229\n",
            "Epoch:  9500 , Loss:  0.37108266863028133\n",
            "Epoch:  9600 , Loss:  0.36809528099194944\n",
            "Epoch:  9700 , Loss:  0.36516343814752\n",
            "Epoch:  9800 , Loss:  0.3622856666848273\n",
            "Epoch:  9900 , Loss:  0.35946054180309134\n",
            "Epoch:  10000 , Loss:  0.35668668546865945\n",
            "Epoch:  10100 , Loss:  0.35396276464606574\n",
            "Epoch:  10200 , Loss:  0.35128748960133904\n",
            "Epoch:  10300 , Loss:  0.3486596122745927\n",
            "Epoch:  10400 , Loss:  0.34607792471903615\n",
            "Epoch:  10500 , Loss:  0.3435412576036564\n",
            "Epoch:  10600 , Loss:  0.3410484787769141\n",
            "Epoch:  10700 , Loss:  0.3385984918889074\n",
            "Epoch:  10800 , Loss:  0.3361902350695488\n",
            "Epoch:  10900 , Loss:  0.33382267966040224\n",
            "Epoch:  11000 , Loss:  0.3314948289979179\n",
            "Epoch:  11100 , Loss:  0.3292057172458953\n",
            "Epoch:  11200 , Loss:  0.3269544082750947\n",
            "Epoch:  11300 , Loss:  0.3247399945879984\n",
            "Epoch:  11400 , Loss:  0.32256159628681236\n",
            "Epoch:  11500 , Loss:  0.3204183600828735\n",
            "Epoch:  11600 , Loss:  0.31830945834570706\n",
            "Epoch:  11700 , Loss:  0.31623408819005405\n",
            "Epoch:  11800 , Loss:  0.3141914705992565\n",
            "Epoch:  11900 , Loss:  0.3121808495834629\n",
            "Epoch:  12000 , Loss:  0.31020149137117564\n",
            "Epoch:  12100 , Loss:  0.30825268363272973\n",
            "Epoch:  12200 , Loss:  0.3063337347343537\n",
            "Epoch:  12300 , Loss:  0.3044439730215181\n",
            "Epoch:  12400 , Loss:  0.3025827461303365\n",
            "Epoch:  12500 , Loss:  0.30074942032583607\n",
            "Epoch:  12600 , Loss:  0.2989433798659668\n",
            "Epoch:  12700 , Loss:  0.29716402639026596\n",
            "Epoch:  12800 , Loss:  0.29541077833214435\n",
            "Epoch:  12900 , Loss:  0.29368307035380364\n",
            "Epoch:  13000 , Loss:  0.29198035280283824\n",
            "Epoch:  13100 , Loss:  0.2903020911896152\n",
            "Epoch:  13200 , Loss:  0.2886477656845682\n",
            "Epoch:  13300 , Loss:  0.28701687063457487\n",
            "Epoch:  13400 , Loss:  0.2854089140976273\n",
            "Epoch:  13500 , Loss:  0.2838234173950359\n",
            "Epoch:  13600 , Loss:  0.28225991468044426\n",
            "Epoch:  13700 , Loss:  0.2807179525249592\n",
            "Epoch:  13800 , Loss:  0.2791970895177353\n",
            "Epoch:  13900 , Loss:  0.2776968958813778\n",
            "Epoch:  14000 , Loss:  0.2762169531015576\n",
            "Epoch:  14100 , Loss:  0.274756853570259\n",
            "Epoch:  14200 , Loss:  0.2733162002421026\n",
            "Epoch:  14300 , Loss:  0.27189460630321416\n",
            "Epoch:  14400 , Loss:  0.27049169485212926\n",
            "Epoch:  14500 , Loss:  0.2691070985922496\n",
            "Epoch:  14600 , Loss:  0.2677404595353824\n",
            "Epoch:  14700 , Loss:  0.26639142871592025\n",
            "Epoch:  14800 , Loss:  0.2650596659152333\n",
            "Epoch:  14900 , Loss:  0.26374483939586657\n",
            "Epoch:  15000 , Loss:  0.262446625645152\n",
            "Epoch:  15100 , Loss:  0.26116470912786005\n",
            "Epoch:  15200 , Loss:  0.2598987820475353\n",
            "Epoch:  15300 , Loss:  0.2586485441161712\n",
            "Epoch:  15400 , Loss:  0.2574137023318968\n",
            "Epoch:  15500 , Loss:  0.2561939707643623\n",
            "Epoch:  15600 , Loss:  0.25498907034752044\n",
            "Epoch:  15700 , Loss:  0.2537987286795185\n",
            "Epoch:  15800 , Loss:  0.25262267982942244\n",
            "Epoch:  15900 , Loss:  0.2514606641505105\n",
            "Epoch:  16000 , Loss:  0.25031242809988286\n",
            "Epoch:  16100 , Loss:  0.24917772406414462\n",
            "Epoch:  16200 , Loss:  0.24805631019092966\n",
            "Epoch:  16300 , Loss:  0.24694795022604377\n",
            "Epoch:  16400 , Loss:  0.24585241335601224\n",
            "Epoch:  16500 , Loss:  0.24476947405582855\n",
            "Epoch:  16600 , Loss:  0.24369891194170862\n",
            "Epoch:  16700 , Loss:  0.2426405116286607\n",
            "Epoch:  16800 , Loss:  0.24159406259269392\n",
            "Epoch:  16900 , Loss:  0.2405593590374901\n",
            "Epoch:  17000 , Loss:  0.23953619976537488\n",
            "Epoch:  17100 , Loss:  0.2385243880524292\n",
            "Epoch:  17200 , Loss:  0.23752373152758838\n",
            "Epoch:  17300 , Loss:  0.2365340420555832\n",
            "Epoch:  17400 , Loss:  0.2355551356235832\n",
            "Epoch:  17500 , Loss:  0.2345868322314065\n",
            "Epoch:  17600 , Loss:  0.23362895578516943\n",
            "Epoch:  17700 , Loss:  0.23268133399424948\n",
            "Epoch:  17800 , Loss:  0.23174379827144537\n",
            "Epoch:  17900 , Loss:  0.23081618363621761\n",
            "Epoch:  18000 , Loss:  0.22989832862090345\n",
            "Epoch:  18100 , Loss:  0.22899007517979705\n",
            "Epoch:  18200 , Loss:  0.2280912686009976\n",
            "Epoch:  18300 , Loss:  0.22720175742092594\n",
            "Epoch:  18400 , Loss:  0.2263213933414179\n",
            "Epoch:  18500 , Loss:  0.22545003114930423\n",
            "Epoch:  18600 , Loss:  0.22458752863839176\n",
            "Epoch:  18700 , Loss:  0.2237337465337622\n",
            "Epoch:  18800 , Loss:  0.22288854841831035\n",
            "Epoch:  18900 , Loss:  0.22205180066144423\n",
            "Epoch:  19000 , Loss:  0.22122337234987502\n",
            "Epoch:  19100 , Loss:  0.22040313522042468\n",
            "Epoch:  19200 , Loss:  0.21959096359478483\n",
            "Epoch:  19300 , Loss:  0.21878673431616077\n",
            "Epoch:  19400 , Loss:  0.21799032668773796\n",
            "Epoch:  19500 , Loss:  0.21720162241291074\n",
            "Epoch:  19600 , Loss:  0.21642050553721484\n",
            "Epoch:  19700 , Loss:  0.21564686239190795\n",
            "Epoch:  19800 , Loss:  0.21488058153914427\n",
            "Epoch:  19900 , Loss:  0.21412155371869138\n"
          ]
        }
      ]
    },
    {
      "cell_type": "code",
      "source": [
        "plt.plot(li)"
      ],
      "metadata": {
        "colab": {
          "base_uri": "https://localhost:8080/",
          "height": 447
        },
        "id": "WAD8achGTr2q",
        "outputId": "049af388-00e7-4120-c2a2-a39f017608a2"
      },
      "execution_count": 29,
      "outputs": [
        {
          "output_type": "execute_result",
          "data": {
            "text/plain": [
              "[<matplotlib.lines.Line2D at 0x7b3ed4c8dcf0>]"
            ]
          },
          "metadata": {},
          "execution_count": 29
        },
        {
          "output_type": "display_data",
          "data": {
            "text/plain": [
              "<Figure size 640x480 with 1 Axes>"
            ],
            "image/png": "[encoded data removed]"
          },
          "metadata": {}
        }
      ]
    },
    {
      "cell_type": "code",
      "source": [
        "preds = nn.predict(x)"
      ],
      "metadata": {
        "id": "HzxVD_OQv8Xg"
      },
      "execution_count": 30,
      "outputs": []
    },
    {
      "cell_type": "code",
      "source": [
        "def accuracy(y_true, y_pred):\n",
        "   print(\"Accuracy:\", (np.where(y_true==y_pred)[0].shape[0] / y_true.shape[0]) * 100, \"%\")"
      ],
      "metadata": {
        "id": "-06YNfwhuvJt"
      },
      "execution_count": 31,
      "outputs": []
    },
    {
      "cell_type": "code",
      "source": [
        "accuracy(np.argmax(y,axis=1), preds)"
      ],
      "metadata": {
        "colab": {
          "base_uri": "https://localhost:8080/"
        },
        "id": "jYRyzqpTvo-G",
        "outputId": "de196670-35a4-47b3-ccae-39fe8a5b3a32"
      },
      "execution_count": 32,
      "outputs": [
        {
          "output_type": "stream",
          "name": "stdout",
          "text": [
            "Accuracy: 95.71508069003896 %\n"
          ]
        }
      ]
    },
    {
      "cell_type": "code",
      "source": [],
      "metadata": {
        "id": "yELiwMiXTNts"
      },
      "execution_count": null,
      "outputs": []
    }
  ]
}