{
  "nbformat": 4,
  "nbformat_minor": 0,
  "metadata": {
    "colab": {
      "provenance": [],
      "gpuType": "T4"
    },
    "kernelspec": {
      "name": "python3",
      "display_name": "Python 3"
    },
    "language_info": {
      "name": "python"
    },
    "accelerator": "GPU"
  },
  "cells": [
    {
      "cell_type": "code",
      "execution_count": null,
      "metadata": {
        "id": "6GxpTsO89H6_"
      },
      "outputs": [],
      "source": [
        "import torch\n",
        "import torch.nn as nn\n",
        "import torch.optim as optim\n",
        "import torchvision\n",
        "import torchvision.transforms as transforms\n",
        "from torch.autograd import Variable\n",
        "\n",
        "import matplotlib.pyplot as plt"
      ]
    },
    {
      "cell_type": "code",
      "source": [
        "# Hyperparameters\n",
        "batch_size = 128\n",
        "latent_size = 20\n",
        "epochs = 50\n",
        "learning_rate = 0.001"
      ],
      "metadata": {
        "id": "HhIBShiy95X2"
      },
      "execution_count": null,
      "outputs": []
    },
    {
      "cell_type": "code",
      "source": [
        "# Load MNIST dataset\n",
        "transform = transforms.Compose([transforms.ToTensor()])\n",
        "train_dataset = torchvision.datasets.MNIST(root='./data', train=True, download=True, transform=transform)\n",
        "train_loader = torch.utils.data.DataLoader(train_dataset, batch_size=batch_size, shuffle=True)"
      ],
      "metadata": {
        "colab": {
          "base_uri": "https://localhost:8080/"
        },
        "id": "o2HvdQsb977c",
        "outputId": "35410aff-0ce5-4b36-e197-dbb04f8c876f"
      },
      "execution_count": null,
      "outputs": [
        {
          "output_type": "stream",
          "name": "stdout",
          "text": [
            "Downloading http://yann.lecun.com/exdb/mnist/train-images-idx3-ubyte.gz\n",
            "Downloading http://yann.lecun.com/exdb/mnist/train-images-idx3-ubyte.gz to ./data/MNIST/raw/train-images-idx3-ubyte.gz\n"
          ]
        },
        {
          "output_type": "stream",
          "name": "stderr",
          "text": [
            "100%|██████████| 9912422/9912422 [00:00<00:00, 208587754.59it/s]"
          ]
        },
        {
          "output_type": "stream",
          "name": "stdout",
          "text": [
            "Extracting ./data/MNIST/raw/train-images-idx3-ubyte.gz to ./data/MNIST/raw\n"
          ]
        },
        {
          "output_type": "stream",
          "name": "stderr",
          "text": [
            "\n"
          ]
        },
        {
          "output_type": "stream",
          "name": "stdout",
          "text": [
            "\n",
            "Downloading http://yann.lecun.com/exdb/mnist/train-labels-idx1-ubyte.gz\n",
            "Downloading http://yann.lecun.com/exdb/mnist/train-labels-idx1-ubyte.gz to ./data/MNIST/raw/train-labels-idx1-ubyte.gz\n"
          ]
        },
        {
          "output_type": "stream",
          "name": "stderr",
          "text": [
            "100%|██████████| 28881/28881 [00:00<00:00, 30760714.53it/s]\n"
          ]
        },
        {
          "output_type": "stream",
          "name": "stdout",
          "text": [
            "Extracting ./data/MNIST/raw/train-labels-idx1-ubyte.gz to ./data/MNIST/raw\n",
            "\n",
            "Downloading http://yann.lecun.com/exdb/mnist/t10k-images-idx3-ubyte.gz\n",
            "Downloading http://yann.lecun.com/exdb/mnist/t10k-images-idx3-ubyte.gz to ./data/MNIST/raw/t10k-images-idx3-ubyte.gz\n"
          ]
        },
        {
          "output_type": "stream",
          "name": "stderr",
          "text": [
            "100%|██████████| 1648877/1648877 [00:00<00:00, 66433799.51it/s]"
          ]
        },
        {
          "output_type": "stream",
          "name": "stdout",
          "text": [
            "Extracting ./data/MNIST/raw/t10k-images-idx3-ubyte.gz to ./data/MNIST/raw\n",
            "\n",
            "Downloading http://yann.lecun.com/exdb/mnist/t10k-labels-idx1-ubyte.gz\n"
          ]
        },
        {
          "output_type": "stream",
          "name": "stderr",
          "text": [
            "\n"
          ]
        },
        {
          "output_type": "stream",
          "name": "stdout",
          "text": [
            "Downloading http://yann.lecun.com/exdb/mnist/t10k-labels-idx1-ubyte.gz to ./data/MNIST/raw/t10k-labels-idx1-ubyte.gz\n"
          ]
        },
        {
          "output_type": "stream",
          "name": "stderr",
          "text": [
            "100%|██████████| 4542/4542 [00:00<00:00, 3484003.07it/s]\n"
          ]
        },
        {
          "output_type": "stream",
          "name": "stdout",
          "text": [
            "Extracting ./data/MNIST/raw/t10k-labels-idx1-ubyte.gz to ./data/MNIST/raw\n",
            "\n"
          ]
        }
      ]
    },
    {
      "cell_type": "code",
      "source": [
        "examples = enumerate(train_loader)\n",
        "batch_idx, (example_data, example_targets) = next(examples)"
      ],
      "metadata": {
        "id": "j5MYlJPOB-rk"
      },
      "execution_count": null,
      "outputs": []
    },
    {
      "cell_type": "code",
      "source": [
        "fig = plt.figure()\n",
        "for i in range(6):\n",
        "  plt.subplot(2,3,i+1)\n",
        "  plt.tight_layout()\n",
        "  plt.imshow(example_data[i][0], cmap='gray', interpolation='none')\n",
        "  plt.xticks([])\n",
        "  plt.yticks([])"
      ],
      "metadata": {
        "colab": {
          "base_uri": "https://localhost:8080/",
          "height": 417
        },
        "id": "yagcoU5eB5iM",
        "outputId": "9a9f6fb6-de35-440e-f08c-89d696940a2f"
      },
      "execution_count": null,
      "outputs": [
        {
          "output_type": "display_data",
          "data": {
            "text/plain": [
              "<Figure size 640x480 with 6 Axes>"
            ],
            "image/png": "[encoded data removed]"
          },
          "metadata": {}
        }
      ]
    },
    {
      "cell_type": "code",
      "source": [
        "# VAE Model\n",
        "class VAE(nn.Module):\n",
        "  def __init__(self):\n",
        "    super(VAE, self).__init__()\n",
        "\n",
        "    # Encoder layers\n",
        "    self.encoder = nn.Sequential(\n",
        "        nn.Linear(28*28, 256),\n",
        "        nn.ReLU(),\n",
        "        nn.Linear(256, 128),\n",
        "        nn.ReLU(),\n",
        "        nn.Linear(128, latent_size * 2)  # Two sets of outputs for mean and log(variance)\n",
        "    )\n",
        "\n",
        "    # Decoder layers\n",
        "    self.decoder = nn.Sequential(\n",
        "        nn.Linear(latent_size, 128),\n",
        "        nn.ReLU(),\n",
        "        nn.Linear(128, 256),\n",
        "        nn.ReLU(),\n",
        "        nn.Linear(256, 28*28),\n",
        "        nn.Sigmoid()  # Output between 0 and 1 for MNIST images\n",
        "    )\n",
        "\n",
        "  def reparameterize(self, mu, log_var):\n",
        "      std = torch.exp(0.5*log_var)\n",
        "      epsilon = torch.randn_like(std)\n",
        "      return mu + epsilon * std\n",
        "\n",
        "  def forward(self, x):\n",
        "      # Encode\n",
        "      h = self.encoder(x.view(-1, 28*28))\n",
        "      mu, log_var = h[:, :latent_size], h[:, latent_size:]\n",
        "\n",
        "      # Reparameterization trick\n",
        "      z = self.reparameterize(mu, log_var)\n",
        "\n",
        "      # Decode\n",
        "      decoded = self.decoder(z)\n",
        "\n",
        "      return decoded, mu, log_var"
      ],
      "metadata": {
        "id": "TLjiVotn-GtG"
      },
      "execution_count": null,
      "outputs": []
    },
    {
      "cell_type": "code",
      "source": [
        "# Loss function\n",
        "def loss_function(recon_x, x, mu, log_var):\n",
        "  BCE = nn.functional.binary_cross_entropy(recon_x, x.view(-1, 28*28), reduction='sum')\n",
        "\n",
        "  # KL divergence between the latent distribution and a standard normal distribution\n",
        "  KLD = -0.5 * torch.sum(1 + log_var - mu.pow(2) - log_var.exp())\n",
        "\n",
        "  return BCE + KLD"
      ],
      "metadata": {
        "id": "k5DBAbey-aBe"
      },
      "execution_count": null,
      "outputs": []
    },
    {
      "cell_type": "code",
      "source": [
        "# Training\n",
        "device = torch.device(\"cuda\" if torch.cuda.is_available() else \"cpu\")\n",
        "model = VAE().to(device)\n",
        "optimizer = optim.Adam(model.parameters(), lr=learning_rate)"
      ],
      "metadata": {
        "id": "K3QVGq4Y-d8w"
      },
      "execution_count": null,
      "outputs": []
    },
    {
      "cell_type": "code",
      "source": [
        "def train(epoch):\n",
        "  model.train()\n",
        "  train_loss = 0\n",
        "  for batch_idx, (data, _) in enumerate(train_loader):\n",
        "    data = data.to(device)\n",
        "    optimizer.zero_grad()\n",
        "    recon_batch, mu, log_var = model(data)\n",
        "    loss = loss_function(recon_batch, data, mu, log_var)\n",
        "    loss.backward()\n",
        "    train_loss += loss.item()\n",
        "    optimizer.step()\n",
        "  print('Epoch: {} Loss: {:.4f}'.format(epoch, train_loss / len(train_loader.dataset)))\n",
        "  return train_loss / len(train_loader.dataset)"
      ],
      "metadata": {
        "id": "Kkvt8YLu-jxH"
      },
      "execution_count": null,
      "outputs": []
    },
    {
      "cell_type": "code",
      "source": [
        "# Train the model\n",
        "loss_list = []\n",
        "for epoch in range(1, epochs + 1):\n",
        "  loss_list.append(train(epoch))"
      ],
      "metadata": {
        "colab": {
          "base_uri": "https://localhost:8080/"
        },
        "id": "SUVLQMnP-0yq",
        "outputId": "a2e098fa-6dec-446f-fbf1-91f79a2a8cfd"
      },
      "execution_count": null,
      "outputs": [
        {
          "output_type": "stream",
          "name": "stdout",
          "text": [
            "Epoch: 1 Loss: 188.2712\n",
            "Epoch: 2 Loss: 138.1118\n",
            "Epoch: 3 Loss: 124.8583\n",
            "Epoch: 4 Loss: 118.4267\n",
            "Epoch: 5 Loss: 114.8686\n",
            "Epoch: 6 Loss: 112.5902\n",
            "Epoch: 7 Loss: 111.0557\n",
            "Epoch: 8 Loss: 109.8309\n",
            "Epoch: 9 Loss: 108.7965\n",
            "Epoch: 10 Loss: 107.9897\n",
            "Epoch: 11 Loss: 107.3448\n",
            "Epoch: 12 Loss: 106.7520\n",
            "Epoch: 13 Loss: 106.2360\n",
            "Epoch: 14 Loss: 105.8155\n",
            "Epoch: 15 Loss: 105.3850\n",
            "Epoch: 16 Loss: 105.0824\n",
            "Epoch: 17 Loss: 104.7774\n",
            "Epoch: 18 Loss: 104.4963\n",
            "Epoch: 19 Loss: 104.2283\n",
            "Epoch: 20 Loss: 103.9366\n",
            "Epoch: 21 Loss: 103.7501\n",
            "Epoch: 22 Loss: 103.5480\n",
            "Epoch: 23 Loss: 103.3109\n",
            "Epoch: 24 Loss: 103.1665\n",
            "Epoch: 25 Loss: 102.9976\n",
            "Epoch: 26 Loss: 102.8030\n",
            "Epoch: 27 Loss: 102.7433\n",
            "Epoch: 28 Loss: 102.5911\n",
            "Epoch: 29 Loss: 102.4231\n",
            "Epoch: 30 Loss: 102.3239\n",
            "Epoch: 31 Loss: 102.2095\n",
            "Epoch: 32 Loss: 102.1163\n",
            "Epoch: 33 Loss: 101.9452\n",
            "Epoch: 34 Loss: 101.8859\n",
            "Epoch: 35 Loss: 101.7527\n",
            "Epoch: 36 Loss: 101.6800\n",
            "Epoch: 37 Loss: 101.5750\n",
            "Epoch: 38 Loss: 101.5443\n",
            "Epoch: 39 Loss: 101.3785\n",
            "Epoch: 40 Loss: 101.3405\n",
            "Epoch: 41 Loss: 101.3074\n",
            "Epoch: 42 Loss: 101.1998\n",
            "Epoch: 43 Loss: 101.1284\n",
            "Epoch: 44 Loss: 101.0467\n",
            "Epoch: 45 Loss: 101.0038\n",
            "Epoch: 46 Loss: 100.9525\n",
            "Epoch: 47 Loss: 100.8769\n",
            "Epoch: 48 Loss: 100.7443\n",
            "Epoch: 49 Loss: 100.7421\n",
            "Epoch: 50 Loss: 100.6731\n"
          ]
        }
      ]
    },
    {
      "cell_type": "code",
      "source": [
        "plt.plot(loss_list)"
      ],
      "metadata": {
        "id": "lKaYgyfnCh9e",
        "colab": {
          "base_uri": "https://localhost:8080/",
          "height": 447
        },
        "outputId": "4595f4ab-ab0b-448f-bc69-25046bd63233"
      },
      "execution_count": null,
      "outputs": [
        {
          "output_type": "execute_result",
          "data": {
            "text/plain": [
              "[<matplotlib.lines.Line2D at 0x7fc02f8b3d60>]"
            ]
          },
          "metadata": {},
          "execution_count": 11
        },
        {
          "output_type": "display_data",
          "data": {
            "text/plain": [
              "<Figure size 640x480 with 1 Axes>"
            ],
            "image/png": "[encoded data removed]"
          },
          "metadata": {}
        }
      ]
    },
    {
      "cell_type": "code",
      "source": [
        "# Generating new samples\n",
        "def generate_samples(num_samples):\n",
        "    model.eval()\n",
        "    with torch.no_grad():\n",
        "        z = torch.randn(num_samples, latent_size).to(device)\n",
        "        samples = model.decoder(z).cpu()\n",
        "    return samples.view(-1, 1, 28, 28)"
      ],
      "metadata": {
        "id": "MSKt3Cz1-4KO"
      },
      "execution_count": null,
      "outputs": []
    },
    {
      "cell_type": "code",
      "source": [
        "samples = generate_samples(6)"
      ],
      "metadata": {
        "id": "69AKuE6T_HvL"
      },
      "execution_count": null,
      "outputs": []
    },
    {
      "cell_type": "code",
      "source": [
        "fig = plt.figure()\n",
        "for i in range(6):\n",
        "  plt.subplot(2,3,i+1)\n",
        "  plt.tight_layout()\n",
        "  plt.imshow(samples[i][0], cmap='gray', interpolation='none')\n",
        "  plt.xticks([])\n",
        "  plt.yticks([])"
      ],
      "metadata": {
        "colab": {
          "base_uri": "https://localhost:8080/",
          "height": 417
        },
        "id": "5FojE2qc_OR0",
        "outputId": "d19b017a-b897-4377-a810-0767578eb0e6"
      },
      "execution_count": null,
      "outputs": [
        {
          "output_type": "display_data",
          "data": {
            "text/plain": [
              "<Figure size 640x480 with 6 Axes>"
            ],
            "image/png": "[encoded data removed]"
          },
          "metadata": {}
        }
      ]
    },
    {
      "cell_type": "code",
      "source": [],
      "metadata": {
        "id": "OuNj1TsfBPxB"
      },
      "execution_count": null,
      "outputs": []
    }
  ]
}