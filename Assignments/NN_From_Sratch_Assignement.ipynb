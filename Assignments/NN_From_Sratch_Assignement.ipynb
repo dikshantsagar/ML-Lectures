{
  "nbformat": 4,
  "nbformat_minor": 0,
  "metadata": {
    "colab": {
      "provenance": []
    },
    "kernelspec": {
      "name": "python3",
      "display_name": "Python 3"
    },
    "language_info": {
      "name": "python"
    }
  },
  "cells": [
    {
      "cell_type": "code",
      "execution_count": null,
      "metadata": {
        "id": "P1wrU6oBBKqo"
      },
      "outputs": [],
      "source": [
        "import numpy as np\n",
        "import matplotlib.pyplot as plt\n",
        "from sklearn.datasets import load_breast_cancer"
      ]
    },
    {
      "cell_type": "code",
      "source": [
        "class NeuralNetwork:\n",
        "\n",
        "  def __init__(self, input_size, hidden_size, output_size):\n",
        "\n",
        "    self.input_size = input_size\n",
        "    self.hidden_size = hidden_size\n",
        "    self.output_size = output_size\n",
        "\n",
        "\n",
        "    self.W1 = np.random.randn(None, None)\n",
        "    self.b1 = np.zeros((1, None))\n",
        "    self.W2 = np.random.randn(None, None)\n",
        "    self.b2 = np.zeros((1, None))\n",
        "\n",
        "\n",
        "  def sigmoid(self, x):\n",
        "\n",
        "    return 1 / (1 + np.exp(-x))\n",
        "\n",
        "  def sigmoid_derivative(self, x):\n",
        "\n",
        "    return None * (1 - None)\n",
        "\n",
        "  def calculate_loss(self, y_true, y_pred):\n",
        "\n",
        "    return np.mean((y_true - y_pred) ** 2)\n",
        "\n",
        "\n",
        "  def forward(self, x):\n",
        "\n",
        "    self.z1 = np.dot(x, self.W1) + self.b1\n",
        "    self.a1 = self.sigmoid(self.z1)\n",
        "    self.z2 = np.dot(self.a1, self.W2) + self.b2\n",
        "    self.a2 = self.sigmoid(self.z2)\n",
        "\n",
        "    return self.a2\n",
        "\n",
        "  def backward(self, x, y, learning_rate):\n",
        "\n",
        "    m = x.shape[0]\n",
        "\n",
        "    dz2 = None\n",
        "    dW2 = None\n",
        "    db2 = None\n",
        "    dz1 = None\n",
        "    dW1 = None\n",
        "    db1 = None\n",
        "\n",
        "\n",
        "\n",
        "    self.W2 -= learning_rate * dW2\n",
        "    self.b2 -= learning_rate * db2\n",
        "    self.W1 -= learning_rate * dW1\n",
        "    self.b1 -= learning_rate * db1\n",
        "\n",
        "\n",
        "\n",
        "  def train(self, x, y, epochs, learning_rate):\n",
        "\n",
        "    losslist = []\n",
        "\n",
        "    for epoch in range(epochs):\n",
        "\n",
        "      output = self.forward(x)\n",
        "      self.backward(x, y, learning_rate)\n",
        "\n",
        "      if epoch %100 == 0:\n",
        "        loss = self.calculate_loss(y, output)\n",
        "        losslist.append(loss)\n",
        "        print(\"Epoch: \",epoch, \", Loss: \",loss)\n",
        "\n",
        "\n",
        "\n",
        "    return losslist\n",
        "\n",
        "  def predict(self,x):\n",
        "\n",
        "    preds = self.forward(x)\n",
        "\n",
        "\n",
        "    pred_class = []\n",
        "    # if pred >= 0.5 --> round up to 1\n",
        "    # if pred < 0.5 --> round up to 1\n",
        "    pred_class = [1 if i > 0.5 else 0 for i in preds]\n",
        "\n",
        "    return np.array(pred_class)\n",
        "\n",
        "\n",
        "\n",
        "\n"
      ],
      "metadata": {
        "id": "Z7FZGqz2OR3M"
      },
      "execution_count": null,
      "outputs": []
    },
    {
      "cell_type": "code",
      "source": [
        "def normalize(X):\n",
        "\n",
        "    # X --> Input.\n",
        "\n",
        "    # m-> number of training examples\n",
        "    # n-> number of features\n",
        "    m, n = X.shape\n",
        "\n",
        "    # Normalizing all the n features of X.\n",
        "    for i in range(n):\n",
        "        X = (X - X.mean(axis=0))/X.std(axis=0)\n",
        "\n",
        "    return X"
      ],
      "metadata": {
        "id": "dAWSBSkDujFz"
      },
      "execution_count": null,
      "outputs": []
    },
    {
      "cell_type": "code",
      "source": [
        "x, y = load_breast_cancer(return_X_y=True)"
      ],
      "metadata": {
        "id": "nMpBzFVus5D9"
      },
      "execution_count": null,
      "outputs": []
    },
    {
      "cell_type": "code",
      "source": [
        "x = normalize(x)\n",
        "y = y.reshape(-1,1)"
      ],
      "metadata": {
        "id": "3R92jx6ps97x"
      },
      "execution_count": null,
      "outputs": []
    },
    {
      "cell_type": "code",
      "source": [
        "nn = NeuralNetwork(None, None, None)"
      ],
      "metadata": {
        "id": "wdEp4ArVTCol"
      },
      "execution_count": null,
      "outputs": []
    },
    {
      "cell_type": "code",
      "source": [
        "li = nn.train(x, y, epochs=None, learning_rate=None)"
      ],
      "metadata": {
        "id": "OznOsnq7TU_s"
      },
      "execution_count": null,
      "outputs": []
    },
    {
      "cell_type": "code",
      "source": [
        "plt.plot(li)"
      ],
      "metadata": {
        "colab": {
          "base_uri": "https://localhost:8080/",
          "height": 447
        },
        "id": "WAD8achGTr2q",
        "outputId": "6537017e-75d4-4df6-c448-d0c33395b6ef"
      },
      "execution_count": null,
      "outputs": [
        {
          "output_type": "execute_result",
          "data": {
            "text/plain": [
              "[<matplotlib.lines.Line2D at 0x7fa0cbcff490>]"
            ]
          },
          "metadata": {},
          "execution_count": 8
        },
        {
          "output_type": "display_data",
          "data": {
            "text/plain": [
              "<Figure size 640x480 with 1 Axes>"
            ],
            "image/png": "[encoded data removed]"
          },
          "metadata": {}
        }
      ]
    },
    {
      "cell_type": "code",
      "source": [
        "preds = nn.predict(x)"
      ],
      "metadata": {
        "id": "HzxVD_OQv8Xg"
      },
      "execution_count": null,
      "outputs": []
    },
    {
      "cell_type": "code",
      "source": [
        "def accuracy(y_true, y_pred):\n",
        "   print(\"Accuracy:\", (np.where(y_true==y_pred)[0].shape[0] / y_true.shape[0]) * 100, \"%\")"
      ],
      "metadata": {
        "id": "-06YNfwhuvJt"
      },
      "execution_count": null,
      "outputs": []
    },
    {
      "cell_type": "code",
      "source": [
        "accuracy(y.reshape(-1,), preds)"
      ],
      "metadata": {
        "colab": {
          "base_uri": "https://localhost:8080/"
        },
        "id": "jYRyzqpTvo-G",
        "outputId": "c98fd1f7-8e08-485a-cc6a-fdd7bc772abb"
      },
      "execution_count": null,
      "outputs": [
        {
          "output_type": "stream",
          "name": "stdout",
          "text": [
            "Accuracy: 97.18804920913884 %\n"
          ]
        }
      ]
    }
  ]
}